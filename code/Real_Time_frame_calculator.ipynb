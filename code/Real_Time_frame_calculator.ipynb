{
  "nbformat": 4,
  "nbformat_minor": 0,
  "metadata": {
    "colab": {
      "name": "Real-Time frame calculator.ipynb",
      "provenance": [],
      "authorship_tag": "ABX9TyPtrKEtescUf8sfOkiMc2K1",
      "include_colab_link": true
    },
    "kernelspec": {
      "name": "python3",
      "display_name": "Python 3"
    }
  },
  "cells": [
    {
      "cell_type": "markdown",
      "metadata": {
        "id": "view-in-github",
        "colab_type": "text"
      },
      "source": [
        "<a href=\"https://colab.research.google.com/github/ashfarhangi/Real-Time-Systems/blob/master/code/Real_Time_frame_calculator.ipynb\" target=\"_parent\"><img src=\"https://colab.research.google.com/assets/colab-badge.svg\" alt=\"Open In Colab\"/></a>"
      ]
    },
    {
      "cell_type": "code",
      "metadata": {
        "id": "9QTg1OxnD_2Q",
        "colab_type": "code",
        "colab": {}
      },
      "source": [
        ""
      ],
      "execution_count": null,
      "outputs": []
    },
    {
      "cell_type": "markdown",
      "metadata": {
        "id": "NFnyOV7LIpZb",
        "colab_type": "text"
      },
      "source": [
        ""
      ]
    },
    {
      "cell_type": "code",
      "metadata": {
        "id": "X4ip_r4QEEcE",
        "colab_type": "code",
        "colab": {
          "base_uri": "https://localhost:8080/",
          "height": 34
        },
        "outputId": "0bae4413-ddef-4fd1-89de-4b6528f41a08"
      },
      "source": [
        "16.4545 +30.1303 +29.5265 +28.9868 +28.732+18.3458 +27.8355"
      ],
      "execution_count": 8,
      "outputs": [
        {
          "output_type": "execute_result",
          "data": {
            "text/plain": [
              "180.0114"
            ]
          },
          "metadata": {
            "tags": []
          },
          "execution_count": 8
        }
      ]
    },
    {
      "cell_type": "code",
      "metadata": {
        "id": "nc5-XU2bFMvw",
        "colab_type": "code",
        "colab": {
          "base_uri": "https://localhost:8080/",
          "height": 34
        },
        "outputId": "93f59e75-284a-4eac-bcf8-2ba8cc9a2679"
      },
      "source": [
        "180.0114 / 250"
      ],
      "execution_count": 10,
      "outputs": [
        {
          "output_type": "execute_result",
          "data": {
            "text/plain": [
              "0.7200456000000001"
            ]
          },
          "metadata": {
            "tags": []
          },
          "execution_count": 10
        }
      ]
    },
    {
      "cell_type": "code",
      "metadata": {
        "id": "yOlD-S15EF0J",
        "colab_type": "code",
        "colab": {}
      },
      "source": [
        " +21.5489 +15.6489 + 18.5644+ 20.3569"
      ],
      "execution_count": null,
      "outputs": []
    },
    {
      "cell_type": "code",
      "metadata": {
        "id": "rLEsDd2TFEst",
        "colab_type": "code",
        "colab": {
          "base_uri": "https://localhost:8080/",
          "height": 34
        },
        "outputId": "278ee0ab-13ab-476a-a3ef-21aac0e4fed8"
      },
      "source": [
        " +21.5489 +15.6489 \n",
        " "
      ],
      "execution_count": 9,
      "outputs": [
        {
          "output_type": "execute_result",
          "data": {
            "text/plain": [
              "37.1978"
            ]
          },
          "metadata": {
            "tags": []
          },
          "execution_count": 9
        }
      ]
    },
    {
      "cell_type": "code",
      "metadata": {
        "id": "NcVL3kOVFX3H",
        "colab_type": "code",
        "colab": {
          "base_uri": "https://localhost:8080/",
          "height": 34
        },
        "outputId": "40239cb9-ef47-446c-c853-88af93ca1a71"
      },
      "source": [
        "37.1978/500"
      ],
      "execution_count": 11,
      "outputs": [
        {
          "output_type": "execute_result",
          "data": {
            "text/plain": [
              "0.0743956"
            ]
          },
          "metadata": {
            "tags": []
          },
          "execution_count": 11
        }
      ]
    },
    {
      "cell_type": "code",
      "metadata": {
        "id": "ux7XSrQuFZEx",
        "colab_type": "code",
        "colab": {
          "base_uri": "https://localhost:8080/",
          "height": 34
        },
        "outputId": "b46243db-6521-4f7e-ae88-bb84d2d7a9b3"
      },
      "source": [
        "18.5644/2000"
      ],
      "execution_count": 12,
      "outputs": [
        {
          "output_type": "execute_result",
          "data": {
            "text/plain": [
              "0.009282199999999999"
            ]
          },
          "metadata": {
            "tags": []
          },
          "execution_count": 12
        }
      ]
    },
    {
      "cell_type": "code",
      "metadata": {
        "id": "H76tNhA3Fde9",
        "colab_type": "code",
        "colab": {
          "base_uri": "https://localhost:8080/",
          "height": 34
        },
        "outputId": "c5b7585d-1e4c-4a0b-9a51-5ccc486b2809"
      },
      "source": [
        "20.3569 / 6000"
      ],
      "execution_count": 13,
      "outputs": [
        {
          "output_type": "execute_result",
          "data": {
            "text/plain": [
              "0.0033928166666666666"
            ]
          },
          "metadata": {
            "tags": []
          },
          "execution_count": 13
        }
      ]
    },
    {
      "cell_type": "code",
      "metadata": {
        "id": "rFUEOMbSFhhE",
        "colab_type": "code",
        "colab": {
          "base_uri": "https://localhost:8080/",
          "height": 34
        },
        "outputId": "ef9ebc01-5821-4896-dc96-fa47ffd2b961"
      },
      "source": [
        "0.0033928166666666666 +0.009282199999999999 +0.0743956 +0.7200456000000001"
      ],
      "execution_count": 14,
      "outputs": [
        {
          "output_type": "execute_result",
          "data": {
            "text/plain": [
              "0.8071162166666668"
            ]
          },
          "metadata": {
            "tags": []
          },
          "execution_count": 14
        }
      ]
    },
    {
      "cell_type": "code",
      "metadata": {
        "id": "j3btEyi6Fl_w",
        "colab_type": "code",
        "colab": {
          "base_uri": "https://localhost:8080/",
          "height": 442
        },
        "outputId": "54a6fce4-e525-401e-c174-3ca900005ca7"
      },
      "source": [
        "z= 0\n",
        "Flist = []\n",
        "for j in range(31,6000):\n",
        "  if (6000 % j ==0):\n",
        "    z=z+1\n",
        "    Flist.append(j)\n",
        "    print(j)\n",
        "  # print(j)\n",
        "print(z)"
      ],
      "execution_count": 18,
      "outputs": [
        {
          "output_type": "stream",
          "text": [
            "40\n",
            "48\n",
            "50\n",
            "60\n",
            "75\n",
            "80\n",
            "100\n",
            "120\n",
            "125\n",
            "150\n",
            "200\n",
            "240\n",
            "250\n",
            "300\n",
            "375\n",
            "400\n",
            "500\n",
            "600\n",
            "750\n",
            "1000\n",
            "1200\n",
            "1500\n",
            "2000\n",
            "3000\n",
            "24\n"
          ],
          "name": "stdout"
        }
      ]
    },
    {
      "cell_type": "code",
      "metadata": {
        "id": "vCIO0E4OHO-l",
        "colab_type": "code",
        "colab": {
          "base_uri": "https://localhost:8080/",
          "height": 425
        },
        "outputId": "0b39f003-3c44-4122-e2c5-b7bd4ef7dff4"
      },
      "source": [
        "Flist"
      ],
      "execution_count": 19,
      "outputs": [
        {
          "output_type": "execute_result",
          "data": {
            "text/plain": [
              "[40,\n",
              " 48,\n",
              " 50,\n",
              " 60,\n",
              " 75,\n",
              " 80,\n",
              " 100,\n",
              " 120,\n",
              " 125,\n",
              " 150,\n",
              " 200,\n",
              " 240,\n",
              " 250,\n",
              " 300,\n",
              " 375,\n",
              " 400,\n",
              " 500,\n",
              " 600,\n",
              " 750,\n",
              " 1000,\n",
              " 1200,\n",
              " 1500,\n",
              " 2000,\n",
              " 3000]"
            ]
          },
          "metadata": {
            "tags": []
          },
          "execution_count": 19
        }
      ]
    },
    {
      "cell_type": "code",
      "metadata": {
        "id": "CxayyLpbMTgE",
        "colab_type": "code",
        "colab": {}
      },
      "source": [
        "periodList=[250,\n",
        "250 ,\n",
        "250 ,\n",
        "250 ,\n",
        "250 ,\n",
        "250 ,\n",
        "250 ,\n",
        "500 ,\n",
        "500 ,\n",
        " 2000,\n",
        " 6000]"
      ],
      "execution_count": 29,
      "outputs": []
    },
    {
      "cell_type": "code",
      "metadata": {
        "id": "Meb7_kPvIjJr",
        "colab_type": "code",
        "colab": {}
      },
      "source": [
        "import numpy as np\n",
        "FFalse= []\n",
        "\n",
        "for f in Flist:\n",
        "  for p in periodList:\n",
        "    gcd= np.gcd(f,p)\n",
        "    if(2*f - gcd >p):\n",
        "      # print('Constrait broken for ',f)\n",
        "      FFalse.append(f)\n",
        "    # if(2*f - gcd <= p):\n",
        "FFalse = set(FFalse) \n",
        "FFalse =list(FFalse)\n",
        "#   if():\n",
        "#       FTrue.append(f)"
      ],
      "execution_count": 51,
      "outputs": []
    },
    {
      "cell_type": "code",
      "metadata": {
        "id": "MUsRux3WMHnY",
        "colab_type": "code",
        "colab": {
          "base_uri": "https://localhost:8080/",
          "height": 34
        },
        "outputId": "bece6be8-1736-447d-b782-aff6fbacb6c8"
      },
      "source": [
        "FTrue = list(set(Flist)^set(FFalse))\n",
        "FTrue.sort()\n",
        "FTrue"
      ],
      "execution_count": 57,
      "outputs": [
        {
          "output_type": "execute_result",
          "data": {
            "text/plain": [
              "[40, 48, 50, 60, 75, 80, 100, 120, 125, 150, 250]"
            ]
          },
          "metadata": {
            "tags": []
          },
          "execution_count": 57
        }
      ]
    },
    {
      "cell_type": "code",
      "metadata": {
        "id": "KlaW7hjbMIZU",
        "colab_type": "code",
        "colab": {}
      },
      "source": [
        ""
      ],
      "execution_count": null,
      "outputs": []
    }
  ]
}