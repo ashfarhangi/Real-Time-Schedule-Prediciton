{
  "nbformat": 4,
  "nbformat_minor": 0,
  "metadata": {
    "colab": {
      "name": "Memory-Generator-LSTM.ipynb",
      "version": "0.3.2",
      "provenance": [],
      "collapsed_sections": [],
      "include_colab_link": true
    },
    "language_info": {
      "codemirror_mode": {
        "name": "ipython",
        "version": 3
      },
      "file_extension": ".py",
      "mimetype": "text/x-python",
      "name": "python",
      "nbconvert_exporter": "python",
      "pygments_lexer": "ipython3",
      "version": "3.6.8"
    },
    "kernelspec": {
      "name": "python3",
      "display_name": "Python 3"
    },
    "accelerator": "GPU"
  },
  "cells": [
    {
      "cell_type": "markdown",
      "metadata": {
        "id": "view-in-github",
        "colab_type": "text"
      },
      "source": [
        "<a href=\"https://colab.research.google.com/github/ashfarhangi/Real-Time-Systems/blob/master/Memory_Generator_seq2seq.ipynb\" target=\"_parent\"><img src=\"https://colab.research.google.com/assets/colab-badge.svg\" alt=\"Open In Colab\"/></a>"
      ]
    },
    {
      "cell_type": "code",
      "metadata": {
        "id": "OZLAgUNWd6vY",
        "colab_type": "code",
        "outputId": "9320af41-1005-4aa4-95bb-51cc518f4e76",
        "colab": {
          "base_uri": "https://localhost:8080/",
          "height": 35
        }
      },
      "source": [
        "# Importing libraries\n",
        "# All codes are garbage\n",
        "import numpy as np\n",
        "import pandas as pd\n",
        "import tensorflow as tf\n",
        "import matplotlib.pyplot as plt\n",
        "import seaborn as sns\n",
        "import random\n",
        "from tqdm import tqdm\n",
        "import time\n",
        "sns.set()\n",
        "from google.colab import drive\n",
        "drive.mount('/content/gdrive')"
      ],
      "execution_count": 0,
      "outputs": [
        {
          "output_type": "stream",
          "text": [
            "Drive already mounted at /content/gdrive; to attempt to forcibly remount, call drive.mount(\"/content/gdrive\", force_remount=True).\n"
          ],
          "name": "stdout"
        }
      ]
    },
    {
      "cell_type": "code",
      "metadata": {
        "id": "rJNGn-MRd6vc",
        "colab_type": "code",
        "colab": {}
      },
      "source": [
        "\n",
        "def get_memory(file):\n",
        "#   open for reading\n",
        "    with open(file, 'r') as fileopen:\n",
        "        data = fileopen.read()\n",
        "#       for spliting the numbers\n",
        "    data = data.split()\n",
        "#     print(data)\n",
        "# this is for finding duplicates and where the memeroy has duplicates occuring\n",
        "    vocab = list(set(data))\n",
        "    return data, vocab\n",
        "# Easy way to use the recurring memories in this case:\n",
        "#   We can one hot encode the words such as a word \"the\" would be onehot[1,the]=1\n",
        "def embed_to_onehot(data, vocab):\n",
        "    onehot = np.zeros((len(data), len(vocab)), dtype = np.float32)\n",
        "    for i in range(len(data)):\n",
        "        onehot[i, vocab.index(data[i])] = 1.0\n",
        "    return onehot"
      ],
      "execution_count": 0,
      "outputs": []
    },
    {
      "cell_type": "code",
      "metadata": {
        "id": "LyYmulQgd6vf",
        "colab_type": "code",
        "outputId": "f535150d-c941-4a32-826e-8aa8694a43b5",
        "colab": {
          "base_uri": "https://localhost:8080/",
          "height": 35
        }
      },
      "source": [
        "text, text_vocab = get_memory('/content/gdrive/My Drive/Colab Notebooks/data/memory_r.txt')\n",
        "print(\"Duplicates: \",len(text_vocab)-len(text))"
      ],
      "execution_count": 0,
      "outputs": [
        {
          "output_type": "stream",
          "text": [
            "Duplicates:  0\n"
          ],
          "name": "stdout"
        }
      ]
    },
    {
      "cell_type": "code",
      "metadata": {
        "id": "jbiCIcoRd6vi",
        "colab_type": "code",
        "outputId": "bcadb450-9d9b-4e5f-ec48-f4cd177e85e6",
        "colab": {
          "base_uri": "https://localhost:8080/",
          "height": 52
        }
      },
      "source": [
        "#Modeling:\n",
        "learning_rate = 0.01\n",
        "batch_size = 30\n",
        "sequence_length = 60\n",
        "epoch = 150\n",
        "num_layers = 2\n",
        "size_layer = 256\n",
        "possible_batch_id = range(len(text) - sequence_length - 1)\n",
        "print('possible batch',possible_batch_id)\n",
        "print(len(text))"
      ],
      "execution_count": 0,
      "outputs": [
        {
          "output_type": "stream",
          "text": [
            "possible batch range(0, 1939)\n",
            "2000\n"
          ],
          "name": "stdout"
        }
      ]
    },
    {
      "cell_type": "code",
      "metadata": {
        "id": "LbAyIJyld6vl",
        "colab_type": "code",
        "colab": {}
      },
      "source": [
        "class Model:\n",
        "#    LSTM CELL\n",
        "# Dimention = (2000) Lengh of text can build multi diementional text as well\n",
        "    def __init__(self, num_layers, size_layer, dimension, sequence_length, learning_rate):\n",
        "        def lstm_cell():\n",
        "#         LSTMCELL(256,60)\n",
        "            return tf.nn.rnn_cell.LSTMCell(size_layer, sequence_length, state_is_tuple = False)\n",
        "        self.rnn_cells = tf.nn.rnn_cell.MultiRNNCell([lstm_cell() for _ in range(num_layers)], \n",
        "                                                     state_is_tuple = False)\n",
        "        self.X = tf.placeholder(tf.float32, (None, None, dimension))\n",
        "        self.Y = tf.placeholder(tf.float32, (None, None, dimension))\n",
        "        self.hidden_layer = tf.placeholder(tf.float32, (None, num_layers * 2 * size_layer))\n",
        "        self.outputs, self.last_state = tf.nn.dynamic_rnn(self.rnn_cells, self.X, \n",
        "                                                          initial_state = self.hidden_layer, \n",
        "                                                          dtype = tf.float32)\n",
        "#         Weights = (256,2000)\n",
        "        rnn_W = tf.Variable(tf.random_normal((size_layer, dimension)))\n",
        "#         Bias = (2000)\n",
        "        rnn_B = tf.Variable(tf.random_normal([dimension]))\n",
        "#   z = Xw+b\n",
        "        self.logits = tf.matmul(tf.reshape(self.outputs, [-1, size_layer]), rnn_W) + rnn_B\n",
        "        y_batch_long = tf.reshape(self.Y, [-1, dimension])\n",
        "#      the vector of raw (non-normalized) predictions that a classification model generates\n",
        "# Means applying softmax to reduce the cost\n",
        "        self.cost = tf.reduce_mean(tf.nn.softmax_cross_entropy_with_logits(logits = self.logits, \n",
        "                                                                           labels = y_batch_long))\n",
        "        self.optimizer = tf.train.RMSPropOptimizer(learning_rate, 0.9).minimize(self.cost)\n",
        "#     If the two numbers are exactly the same it is a correct predict\n",
        "        self.correct_pred = tf.equal(tf.argmax(self.logits, 1), tf.argmax(y_batch_long, 1))\n",
        "        self.accuracy = tf.reduce_mean(tf.cast(self.correct_pred, tf.float32))\n",
        "        seq_shape = tf.shape(self.outputs)\n",
        "        self.final_outputs = tf.reshape(tf.nn.softmax(self.logits), \n",
        "                                        (seq_shape[0], seq_shape[1], \n",
        "                                         dimension))"
      ],
      "execution_count": 0,
      "outputs": []
    },
    {
      "cell_type": "code",
      "metadata": {
        "id": "N79luZ_-d6vn",
        "colab_type": "code",
        "outputId": "581896ce-40b4-4e7f-ec70-1f4a73730870",
        "colab": {
          "base_uri": "https://localhost:8080/",
          "height": 107
        }
      },
      "source": [
        "tf.reset_default_graph()\n",
        "sess = tf.InteractiveSession()\n",
        "model = Model(num_layers, size_layer, len(text_vocab), sequence_length, learning_rate)\n",
        "sess.run(tf.global_variables_initializer())"
      ],
      "execution_count": 0,
      "outputs": [
        {
          "output_type": "stream",
          "text": [
            "/usr/local/lib/python3.6/dist-packages/tensorflow/python/client/session.py:1735: UserWarning: An interactive session is already active. This can cause out-of-memory errors in some cases. You must explicitly call `InteractiveSession.close()` to release resources held by the other session(s).\n",
            "  warnings.warn('An interactive session is already active. This can '\n",
            "W0627 14:38:27.006222 140257390757760 rnn_cell_impl.py:893] <tensorflow.python.ops.rnn_cell_impl.LSTMCell object at 0x7f8f6a0d3f60>: Using a concatenated state is slower and will soon be deprecated.  Use state_is_tuple=True.\n",
            "W0627 14:38:27.007993 140257390757760 rnn_cell_impl.py:893] <tensorflow.python.ops.rnn_cell_impl.LSTMCell object at 0x7f8f6a0d3f98>: Using a concatenated state is slower and will soon be deprecated.  Use state_is_tuple=True.\n"
          ],
          "name": "stderr"
        }
      ]
    },
    {
      "cell_type": "markdown",
      "metadata": {
        "id": "5epXq-fghgNJ",
        "colab_type": "text"
      },
      "source": [
        "#Encoding:"
      ]
    },
    {
      "cell_type": "code",
      "metadata": {
        "id": "8t5B4Ju6d6vt",
        "colab_type": "code",
        "colab": {}
      },
      "source": [
        "def seq2seq():\n",
        "    SoftMaxLoss, FinalAccuracy = [], []\n",
        "    pbar = tqdm(range(epoch), desc = 'epoch')\n",
        "    for i in pbar:\n",
        "        last_time = time.time()\n",
        "        init_value = np.zeros((batch_size, num_layers * 2 * size_layer))\n",
        "        batch_x = np.zeros((batch_size, sequence_length, len(text_vocab)))\n",
        "        batch_y = np.zeros((batch_size, sequence_length, len(text_vocab)))\n",
        "        batch_id = random.sample(possible_batch_id, batch_size)\n",
        "        for n in range(sequence_length):\n",
        "            id1 = embed_to_onehot([text[k + n] for k in batch_id], text_vocab)\n",
        "            id2 = embed_to_onehot([text[k + n + 1] for k in batch_id], text_vocab)\n",
        "            batch_x[:,n,:] = id1\n",
        "            batch_y[:,n,:] = id2\n",
        "        last_state, _, loss = sess.run([model.last_state, model.optimizer, model.cost], \n",
        "                                       feed_dict = {model.X: batch_x, \n",
        "                                                    model.Y: batch_y,\n",
        "                                                    model.hidden_layer: init_value})\n",
        "        accuracy = sess.run(model.accuracy, feed_dict = {model.X: batch_x, \n",
        "                                                         model.Y: batch_y, \n",
        "                                                         model.hidden_layer: init_value})\n",
        "        FinalAccuracy.append(accuracy); SoftMaxLoss.append(loss)\n",
        "        init_value = last_state\n",
        "        pbar.set_postfix(cost = loss, accuracy = accuracy)\n",
        "    return SoftMaxLoss, FinalAccuracy"
      ],
      "execution_count": 0,
      "outputs": []
    },
    {
      "cell_type": "code",
      "metadata": {
        "id": "_lj94yitd6vv",
        "colab_type": "code",
        "outputId": "37365cce-9051-43bd-b4fa-77aab3ceb58a",
        "colab": {
          "base_uri": "https://localhost:8080/",
          "height": 35
        }
      },
      "source": [
        "SoftMaxLoss, FinalAccuracy = seq2seq()"
      ],
      "execution_count": 0,
      "outputs": [
        {
          "output_type": "stream",
          "text": [
            "epoch: 100%|██████████| 150/150 [00:41<00:00,  3.61it/s, accuracy=0.241, cost=4.46]\n"
          ],
          "name": "stderr"
        }
      ]
    },
    {
      "cell_type": "code",
      "metadata": {
        "id": "kTX3UckSd6v0",
        "colab_type": "code",
        "outputId": "cb7b70c9-339b-4490-ac24-d492cb0d57f3",
        "colab": {
          "base_uri": "https://localhost:8080/",
          "height": 345
        }
      },
      "source": [
        "plt.figure(figsize = (15, 5))\n",
        "plt.subplot(1, 2, 1)\n",
        "EPOCH = np.arange(len(SoftMaxLoss))\n",
        "plt.plot(EPOCH, SoftMaxLoss)\n",
        "plt.xlabel('epoch'); plt.ylabel('loss')\n",
        "plt.subplot(1, 2, 2)\n",
        "plt.plot(EPOCH, FinalAccuracy)\n",
        "plt.xlabel('epoch'); plt.ylabel('accuracy')\n",
        "plt.show()"
      ],
      "execution_count": 0,
      "outputs": [
        {
          "output_type": "display_data",
          "data": {
            "image/png": "[encoded data removed]",
            "text/plain": [
              "<Figure size 1080x360 with 2 Axes>"
            ]
          },
          "metadata": {
            "tags": []
          }
        }
      ]
    },
    {
      "cell_type": "code",
      "metadata": {
        "id": "ts3Pp2jId6v4",
        "colab_type": "code",
        "outputId": "62f1a536-07f7-4bd9-bfb9-5b8e2fb4855a",
        "colab": {
          "base_uri": "https://localhost:8080/",
          "height": 35
        }
      },
      "source": [
        "split_text = text\n",
        "# selected_index = np.random.randint(0, len(split_text) - 5)\n",
        "selected_index =1990\n",
        "tag = split_text[selected_index:selected_index + 10]\n",
        "print(tag)\n"
      ],
      "execution_count": 0,
      "outputs": [
        {
          "output_type": "stream",
          "text": [
            "['1899', '2066', '197400', '201175', '218035', '285025', '130469', '229028', '186735', '241621']\n"
          ],
          "name": "stdout"
        }
      ]
    },
    {
      "cell_type": "markdown",
      "metadata": {
        "id": "aTaSFTxXhkmz",
        "colab_type": "text"
      },
      "source": [
        "#Decoding:"
      ]
    },
    {
      "cell_type": "code",
      "metadata": {
        "id": "JkBqmH9md6v7",
        "colab_type": "code",
        "colab": {}
      },
      "source": [
        "def generate_based_sequence(length_sentence, argmax = False):\n",
        "    sentence_generated = tag[:]\n",
        "    onehot = embed_to_onehot(tag, text_vocab)\n",
        "    init_value = np.zeros((1, num_layers * 2 * size_layer))\n",
        "    for i in range(len(tag)):\n",
        "        batch_x = np.zeros((1, 1, len(text_vocab)))\n",
        "        batch_x[:, 0, :] = onehot[i, :]\n",
        "#         IMPORTANT\n",
        "        last_state, prob = sess.run(\n",
        "            [model.last_state, model.final_outputs],\n",
        "            feed_dict = {model.X: batch_x, model.hidden_layer: init_value},\n",
        "        )\n",
        "        init_value = last_state\n",
        "\n",
        "    for i in range(length_sentence):\n",
        "        if argmax:\n",
        "            index = np.argmax(prob[0][0])\n",
        "        else:\n",
        "            index = np.random.choice(range(len(text_vocab)), p = prob[0][0])\n",
        "        element = [text_vocab[index]]\n",
        "        sentence_generated += element\n",
        "        onehot = embed_to_onehot(element, text_vocab)\n",
        "        batch_x = np.zeros((1, 1, len(text_vocab)))\n",
        "        batch_x[:, 0, :] = onehot[0, :]\n",
        "        last_state, prob = sess.run(\n",
        "            [model.last_state, model.final_outputs],\n",
        "            feed_dict = {model.X: batch_x, model.hidden_layer: init_value},\n",
        "        )\n",
        "        init_value = last_state\n",
        "\n",
        "    return ' '.join(sentence_generated)\n"
      ],
      "execution_count": 0,
      "outputs": []
    },
    {
      "cell_type": "code",
      "metadata": {
        "id": "AJz3SdrEd6v-",
        "colab_type": "code",
        "outputId": "14266a0a-7e80-4b11-eebd-3722031d2d7c",
        "colab": {
          "base_uri": "https://localhost:8080/",
          "height": 35
        }
      },
      "source": [
        "print(generate_based_sequence(10,True))"
      ],
      "execution_count": 0,
      "outputs": [
        {
          "output_type": "stream",
          "text": [
            "1899 2066 197400 201175 218035 285025 130469 229028 186735 241621 227928 1007 130389 240485 240485 216888 200029 200029 196287 283873\n"
          ],
          "name": "stdout"
        }
      ]
    },
    {
      "cell_type": "code",
      "metadata": {
        "id": "w04zK0Vad6wC",
        "colab_type": "code",
        "outputId": "ffe0e20c-9e5b-4418-9f6a-9e393b34003f",
        "colab": {
          "base_uri": "https://localhost:8080/",
          "height": 35
        }
      },
      "source": [
        "print(generate_based_sequence(10,False))"
      ],
      "execution_count": 0,
      "outputs": [
        {
          "output_type": "stream",
          "text": [
            "1899 2066 197400 201175 218035 285025 130469 229028 186735 241621 216118 284174 228843 200415 1054 195573 1739 199202 284295 196889\n"
          ],
          "name": "stdout"
        }
      ]
    },
    {
      "cell_type": "code",
      "metadata": {
        "id": "16qTCTyEWYmV",
        "colab_type": "code",
        "outputId": "7b42a50f-cf66-4f02-9d10-66c406179a3a",
        "colab": {
          "base_uri": "https://localhost:8080/",
          "height": 35
        }
      },
      "source": [
        "ytest=[2076\n",
        ",1909\n",
        ",197410\n",
        ",201185\n",
        ",218045\n",
        ",285035\n",
        ",130479\n",
        ",229038\n",
        ",186745\n",
        ",2086]\n",
        "print(ytest)"
      ],
      "execution_count": 0,
      "outputs": [
        {
          "output_type": "stream",
          "text": [
            "[2076, 1909, 197410, 201185, 218045, 285035, 130479, 229038, 186745, 2086]\n"
          ],
          "name": "stdout"
        }
      ]
    },
    {
      "cell_type": "code",
      "metadata": {
        "id": "TP_KI4TEofyQ",
        "colab_type": "code",
        "colab": {}
      },
      "source": [
        "arg1 = generate_based_sequence(10,True)\n",
        "arg4 = generate_based_sequence(10,False)"
      ],
      "execution_count": 0,
      "outputs": []
    },
    {
      "cell_type": "code",
      "metadata": {
        "id": "AqbxfwB9Zq1G",
        "colab_type": "code",
        "colab": {}
      },
      "source": [
        ""
      ],
      "execution_count": 0,
      "outputs": []
    },
    {
      "cell_type": "code",
      "metadata": {
        "id": "M8oc7aKgUJgv",
        "colab_type": "code",
        "colab": {}
      },
      "source": [
        "arg4 = arg4.split()\n",
        "\n",
        "arg3 = arg1.split()\n",
        "#     print(data)\n",
        "# this is for finding duplicates and where the memeroy has duplicates occuring\n",
        "arg3 = list(set(arg3))\n",
        "for i in range(len(arg3)):\n",
        "  arg3[i] = int(arg3[i])\n",
        "arg4 = list(set(arg4))\n",
        "for i in range(len(arg4)):\n",
        "  arg4[i] = int(arg4[i])"
      ],
      "execution_count": 0,
      "outputs": []
    },
    {
      "cell_type": "code",
      "metadata": {
        "id": "DM4QPDKlOjXw",
        "colab_type": "code",
        "colab": {}
      },
      "source": [
        "arg2 = text[1990:2000]\n",
        "# arg2 =pd.DataFrame(arg2)\n",
        "for i in range(len(arg2)):\n",
        "  arg2[i] = int(arg2[i])"
      ],
      "execution_count": 0,
      "outputs": []
    },
    {
      "cell_type": "code",
      "metadata": {
        "id": "Q1w8raHcYhX7",
        "colab_type": "code",
        "colab": {}
      },
      "source": [
        "ytest=[2076\n",
        ",1909\n",
        ",197410\n",
        ",201185\n",
        ",218045\n",
        ",285035\n",
        ",130479\n",
        ",229038\n",
        ",186745\n",
        ",2086]"
      ],
      "execution_count": 0,
      "outputs": []
    },
    {
      "cell_type": "code",
      "metadata": {
        "id": "lOAoRwJBZAPC",
        "colab_type": "code",
        "outputId": "b21037b2-f790-41c3-f401-3a8b96d295eb",
        "colab": {
          "base_uri": "https://localhost:8080/",
          "height": 69
        }
      },
      "source": [
        "print(ytest)\n",
        "print(arg3[10:])\n",
        "print(arg4[10:])"
      ],
      "execution_count": 0,
      "outputs": [
        {
          "output_type": "stream",
          "text": [
            "[2076, 1909, 197410, 201185, 218045, 285035, 130479, 229038, 186745, 2086]\n",
            "[229028, 241621, 1007, 200029, 130389, 196287, 240485, 201175]\n",
            "[195850, 197400, 218035, 1899, 229028, 241621, 196926, 201175, 227413, 200752]\n"
          ],
          "name": "stdout"
        }
      ]
    },
    {
      "cell_type": "code",
      "metadata": {
        "id": "W8RJm3KRRnF5",
        "colab_type": "code",
        "outputId": "45f4e0a9-4a32-4765-e8a4-313ecd3b1231",
        "colab": {
          "base_uri": "https://localhost:8080/",
          "height": 275
        }
      },
      "source": [
        "plt.plot(ytest[1:],c='black')\n",
        "plt.plot(arg4[10:],c='green')\n",
        "plt.plot(arg3[10:],c='yellow')\n",
        "plt.show()"
      ],
      "execution_count": 0,
      "outputs": [
        {
          "output_type": "display_data",
          "data": {
            "image/png": "[encoded data removed]",
            "text/plain": [
              "<Figure size 432x288 with 1 Axes>"
            ]
          },
          "metadata": {
            "tags": []
          }
        }
      ]
    },
    {
      "cell_type": "markdown",
      "metadata": {
        "id": "SKtMlCqWhJnG",
        "colab_type": "text"
      },
      "source": [
        "References:\n",
        "https://towardsdatascience.com/aifortrading-2edd6fac689d"
      ]
    },
    {
      "cell_type": "code",
      "metadata": {
        "id": "ljLTCJzuhIe5",
        "colab_type": "code",
        "colab": {}
      },
      "source": [
        ""
      ],
      "execution_count": 0,
      "outputs": []
    }
  ]
}