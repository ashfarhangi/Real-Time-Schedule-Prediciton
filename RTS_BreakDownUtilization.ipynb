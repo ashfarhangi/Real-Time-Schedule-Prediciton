{
  "nbformat": 4,
  "nbformat_minor": 0,
  "metadata": {
    "colab": {
      "name": "RTS_BreakDownUtilization.ipynb",
      "provenance": [],
      "collapsed_sections": [],
      "authorship_tag": "ABX9TyNAMRrAotnBeac9vlTeVKBp"
    },
    "kernelspec": {
      "name": "python3",
      "display_name": "Python 3"
    }
  },
  "cells": [
    {
      "cell_type": "markdown",
      "metadata": {
        "id": "8THYjAf_jXhz"
      },
      "source": [
        "# Taskset Generator"
      ]
    },
    {
      "cell_type": "markdown",
      "metadata": {
        "id": "ONlPBZLojbem"
      },
      "source": [
        "Note that the user must set bounds on range of period and execution of generate task."
      ]
    },
    {
      "cell_type": "code",
      "metadata": {
        "id": "yAaiORu4jCby"
      },
      "source": [
        "import numpy as np\n",
        "import pandas as pd\n",
        "import matplotlib.pyplot as plt\n",
        "import random \n",
        "import pandas as pd\n",
        "import numpy as np\n",
        "from scipy.optimize import fsolve\n",
        "import matplotlib.pyplot as plt\n",
        "import sympy as sp\n",
        "from sympy.solvers import solve\n",
        "from sympy import Symbol\n"
      ],
      "execution_count": null,
      "outputs": []
    },
    {
      "cell_type": "code",
      "metadata": {
        "id": "0d6muxsfPzE0"
      },
      "source": [
        "def randomTask(minP,minE):\n",
        "  q = (np.random.randint(minP,50),np.random.randint(1,minE))\n",
        "  w = (np.random.randint(minP,50),np.random.randint(1,minE))\n",
        "  e= (np.random.randint(minP,50),np.random.randint(1,minE))\n",
        "  r=  (np.random.randint(minP,50),np.random.randint(1,minE))\n",
        "  t = (np.random.randint(minP,50),np.random.randint(1,minE))\n",
        "  return x,y,z,w,q"
      ],
      "execution_count": null,
      "outputs": []
    },
    {
      "cell_type": "code",
      "metadata": {
        "id": "GxPEJgDriU_R"
      },
      "source": [
        "def RMUtil(n):\n",
        "  b = n * (np.power(2,1/n)-1)\n",
        "  return b"
      ],
      "execution_count": null,
      "outputs": []
    },
    {
      "cell_type": "code",
      "metadata": {
        "id": "ia3FTDV7iV8F"
      },
      "source": [
        "def hyperPeriod(a,b):\n",
        "  z = np.lcm(a,b)\n",
        "  return z"
      ],
      "execution_count": null,
      "outputs": []
    },
    {
      "cell_type": "code",
      "metadata": {
        "id": "VECa6sNXiO01",
        "outputId": "7bd2218c-ece7-4d24-c374-da282cf86a83",
        "colab": {
          "base_uri": "https://localhost:8080/"
        }
      },
      "source": [
        "np.lcm(15,20)"
      ],
      "execution_count": null,
      "outputs": [
        {
          "output_type": "execute_result",
          "data": {
            "text/plain": [
              "60"
            ]
          },
          "metadata": {
            "tags": []
          },
          "execution_count": 130
        }
      ]
    },
    {
      "cell_type": "code",
      "metadata": {
        "id": "Cp5BwcGERGCu"
      },
      "source": [
        "q,w,e,r,t = randomTask(10,5)\n",
        "# print('util',str()x[]+y[]+))"
      ],
      "execution_count": null,
      "outputs": []
    },
    {
      "cell_type": "code",
      "metadata": {
        "id": "6o3jeBkCUgsu",
        "outputId": "ed39c43a-2441-4234-c84a-1a3e29aac0e1",
        "colab": {
          "base_uri": "https://localhost:8080/"
        }
      },
      "source": [
        "cTotal = q[1]+w[1]+e[1]+r[1]+t[1]\n",
        "uti = q[1]/q[0] + w[1]/w[0] +e[1]/e[0] + r[1]/r[0] + t[1]/t[0] \n",
        "if uti <=1:\n",
        "  print('EDF Scheduable',uti)"
      ],
      "execution_count": null,
      "outputs": [
        {
          "output_type": "stream",
          "text": [
            "EDF Scheduable 0.41815401374224903\n"
          ],
          "name": "stdout"
        }
      ]
    },
    {
      "cell_type": "code",
      "metadata": {
        "id": "y_kiD9NeieX3",
        "outputId": "f93148ef-e253-4b41-e86b-32fdb806f86f",
        "colab": {
          "base_uri": "https://localhost:8080/"
        }
      },
      "source": [
        "uti"
      ],
      "execution_count": null,
      "outputs": [
        {
          "output_type": "execute_result",
          "data": {
            "text/plain": [
              "0.41815401374224903"
            ]
          },
          "metadata": {
            "tags": []
          },
          "execution_count": 134
        }
      ]
    },
    {
      "cell_type": "code",
      "metadata": {
        "id": "8_hUJ7RiipXF",
        "outputId": "0b68f825-d695-46ec-f52d-4685c52df332",
        "colab": {
          "base_uri": "https://localhost:8080/"
        }
      },
      "source": [
        "x = Symbol('x')\n",
        "solve(x**2 - 1, x)\n",
        "solve(3 + (x/8)*3-x, x)"
      ],
      "execution_count": null,
      "outputs": [
        {
          "output_type": "execute_result",
          "data": {
            "text/plain": [
              "[24/5]"
            ]
          },
          "metadata": {
            "tags": []
          },
          "execution_count": 138
        }
      ]
    },
    {
      "cell_type": "code",
      "metadata": {
        "id": "FfRA1yBJimG0",
        "outputId": "30bbbf99-4182-416b-a0f6-bc999645e2fd",
        "colab": {
          "base_uri": "https://localhost:8080/"
        }
      },
      "source": [
        "solve(1 + (x/4)*2+((x/12)*3)-x, x)"
      ],
      "execution_count": null,
      "outputs": [
        {
          "output_type": "execute_result",
          "data": {
            "text/plain": [
              "[4]"
            ]
          },
          "metadata": {
            "tags": []
          },
          "execution_count": 140
        }
      ]
    },
    {
      "cell_type": "code",
      "metadata": {
        "id": "S1FkczFjiY3j",
        "outputId": "e6443da3-e1d7-455c-97f9-fd38b59f7fe6",
        "colab": {
          "base_uri": "https://localhost:8080/"
        }
      },
      "source": [
        "print('w scale',solve((x*uti)-1, x))"
      ],
      "execution_count": null,
      "outputs": [
        {
          "output_type": "stream",
          "text": [
            "w scale [2.39146335353940]\n"
          ],
          "name": "stdout"
        }
      ]
    },
    {
      "cell_type": "code",
      "metadata": {
        "id": "ZNLLBSluVdfb",
        "outputId": "f8e31ba4-db20-4ef4-8a9d-c8ee7cb206be",
        "colab": {
          "base_uri": "https://localhost:8080/"
        }
      },
      "source": [
        "ContextSwitch = 0.000006"
      ],
      "execution_count": null,
      "outputs": [
        {
          "output_type": "execute_result",
          "data": {
            "text/plain": [
              "0.41815401374224903"
            ]
          },
          "metadata": {
            "tags": []
          },
          "execution_count": 145
        }
      ]
    },
    {
      "cell_type": "code",
      "metadata": {
        "id": "9_HKg2HfjgEl",
        "outputId": "7f18319c-6ad0-41d2-df10-390d881998a9",
        "colab": {
          "base_uri": "https://localhost:8080/",
          "height": 545
        }
      },
      "source": [
        "import matplotlib.pyplot as plt\n",
        "plt.plot([q[1],w[1],e[1],r[1],t[1]],linewidth=4)\n",
        "plt.title('Tasks Execution')\n",
        "plt.show()\n",
        "plt.plot([q[0],w[0],e[0],r[0],t[0]],linewidth=4)\n",
        "plt.title('Tasks Period')\n",
        "plt.show()"
      ],
      "execution_count": null,
      "outputs": [
        {
          "output_type": "display_data",
          "data": {
            "image/png": "[encoded data removed]",
            "text/plain": [
              "<Figure size 432x288 with 1 Axes>"
            ]
          },
          "metadata": {
            "tags": [],
            "needs_background": "light"
          }
        },
        {
          "output_type": "display_data",
          "data": {
            "image/png": "[encoded data removed]",
            "text/plain": [
              "<Figure size 432x288 with 1 Axes>"
            ]
          },
          "metadata": {
            "tags": [],
            "needs_background": "light"
          }
        }
      ]
    },
    {
      "cell_type": "code",
      "metadata": {
        "id": "pUzFxcx_rPwi"
      },
      "source": [
        "csTime = 0.000006"
      ],
      "execution_count": null,
      "outputs": []
    },
    {
      "cell_type": "code",
      "metadata": {
        "id": "6u3kLjdxpzXP"
      },
      "source": [
        "import matplotlib.pyplot as plt\n",
        "plt.plot([q[1],w[1],e[1],r[1],t[1]],linewidth=4)\n",
        "plt.title('Tasks Execution')\n",
        "plt.show()\n",
        "plt.plot([q[0],w[0],e[0],r[0],t[0]],linewidth=4)\n",
        "plt.title('Tasks Period')\n",
        "plt.show()"
      ],
      "execution_count": null,
      "outputs": []
    },
    {
      "cell_type": "code",
      "metadata": {
        "id": "ybZhtC98jJRY",
        "outputId": "33932ee4-aee6-4b55-9361-c39045f67fd3",
        "colab": {
          "base_uri": "https://localhost:8080/"
        }
      },
      "source": [
        "import numpy as np\n",
        "FFalse= []\n",
        "\n",
        "for f in Flist:\n",
        "  for p in periodList:\n",
        "    gcd= np.gcd(f,p)\n",
        "    if(2*f - gcd >p):\n",
        "      # print('Constrait broken for ',f)\n",
        "      FFalse.append(f)\n",
        "    # if(2*f - gcd <= p):"
      ],
      "execution_count": null,
      "outputs": [
        {
          "output_type": "execute_result",
          "data": {
            "text/plain": [
              "[]"
            ]
          },
          "metadata": {
            "tags": []
          },
          "execution_count": 7
        }
      ]
    },
    {
      "cell_type": "code",
      "metadata": {
        "id": "ZaZK-U8ZJpsd"
      },
      "source": [
        "class EDF():\n",
        "    \"\"\"Earliest Deadline First\"\"\"\n",
        "    def on_activate(self, job):\n",
        "        job.cpu.resched()\n",
        "\n",
        "    def on_terminated(self, job):\n",
        "        job.cpu.resched()\n",
        "\n",
        "    def schedule(self, cpu):\n",
        "        # List of ready jobs not currently running:\n",
        "        ready_jobs = [t.job for t in self.task_list\n",
        "                      if t.is_active() and not t.job.is_running()]\n",
        "\n",
        "        if ready_jobs:\n",
        "            # Select a free processor or, if none,\n",
        "            # the one with the greatest deadline (self in case of equality):\n",
        "            key = lambda x: (\n",
        "                1 if not x.running else 0,\n",
        "                x.running.absolute_deadline if x.running else 0,\n",
        "                1 if x is cpu else 0\n",
        "            )\n",
        "            cpu_min = max(self.processors, key=key)\n",
        "\n",
        "            # Select the job with the least priority:\n",
        "            job = min(ready_jobs, key=lambda x: x.absolute_deadline)\n",
        "\n",
        "            if (cpu_min.running is None or\n",
        "                    cpu_min.running.absolute_deadline > job.absolute_deadline):\n",
        "                print(self.sim.now(), job.name, cpu_min.name)\n",
        "                return (job, cpu_min)\n"
      ],
      "execution_count": null,
      "outputs": []
    },
    {
      "cell_type": "code",
      "metadata": {
        "id": "aeWQXbGiqTAr"
      },
      "source": [
        "from fractions import gcd\n",
        "import math\n",
        "class Node:\n",
        "  def __init__(self):\n",
        "    self.name = None\n",
        "    self.absD = None\n",
        "    self.execT = None\n",
        "    self.next = None\n",
        "\n",
        "class LinkedList:\n",
        "  def __init__(self):\n",
        "    self.head = None\n",
        "\n",
        "  def addNode(self, absD, execT, name):\n",
        "    curr = self.head\n",
        "    if curr is None:\n",
        "      n = Node()\n",
        "      n.absD = absD\n",
        "      n.name = name\n",
        "      n.execT = execT\n",
        "      self.head = n\n",
        "      return\n",
        "\n",
        "    if curr.absD > absD:\n",
        "      n = Node()\n",
        "      n.absD = absD\n",
        "      n.name = name\n",
        "      n.execT = execT\n",
        "      n.next = curr\n",
        "      self.head = n\n",
        "      return\n",
        "\n",
        "    if curr.absD == absD:\n",
        "      n = Node()\n",
        "      n.absD = absD\n",
        "      n.name = name\n",
        "      n.execT = execT\n",
        "      if int(curr.name[1]) > int(name[1]):\n",
        "              n.next = curr\n",
        "              self.head = n\n",
        "              return\n",
        "      while curr.next is not None:\n",
        "        if int(curr.name[1]) > int(name[1]):\n",
        "          break\n",
        "        curr = curr.next\n",
        "      n.next = curr.next\n",
        "      curr.next = n\n",
        "      return\n",
        "\n",
        "    while curr.next is not None:\n",
        "      if curr.next.absD > absD:\n",
        "        break\n",
        "      if curr.next.absD == absD:\n",
        "      curr = curr.next\n",
        "    n = Node()\n",
        "    n.absD = absD\n",
        "    n.name = name\n",
        "    n.execT = execT\n",
        "    n.next = curr.next\n",
        "    curr.next = n\n",
        "    return\n",
        "\n",
        "  def removeHead(self):\n",
        "    curr = self.head\n",
        "    self.head = curr.next\n",
        "\n",
        "period = [3, 5, 8]\n",
        "relD = [3, 5, 8]\n",
        "execT = [1, 2, 3]\n",
        "interval = 32\n",
        "\n",
        "print \"-------------------------------------\"\n",
        "for i in range(1, len(period)+1):\n",
        "        vNum = interval / period[i-1]\n",
        "\tif(0 != (interval % period[i-1])):\n",
        "\t\tvNum+=1\n",
        "        for j in range(0, vNum):\n",
        "                vName = \"T\" + str(i) + \"J\" + str(j+1)\n",
        "\t\tprint \" %s\" % vName,\n",
        "\tprint\n",
        "\n",
        "jobList = LinkedList() \n",
        "for i in range(0, interval+1):\n",
        "\tfor j in range(0, len(period)):\n",
        "\t\tif(0 == (i % period[j])):\n",
        "\t\t\tvName = (\"T\"+ str(j+1) + \"J\" + str((i / period[j]) + 1))\n",
        "\t\t\t'''\n",
        "\t\t\tprint i,j+1, i+relD[j], period[j],\n",
        "\t\t\tprint \"%s\" % vName \n",
        "\t\t\t'''\n",
        "\t\t\tjobList.addNode(i+relD[j], execT[j], vName)\n",
        "\n",
        "\thead = jobList.head\n",
        "\tprint \"* Time %2d: %s: [%d, %d] \" % (i, head.name, head.execT, head.absD), \n",
        "\tif(i >= head.absD):\n",
        "\t\tprint \"-> Deadline Missed \",\n",
        "\tprint \"-> Queue:\",\n",
        "\twhile head is not None:\n",
        "\t\tprint \"%s[%d,%d]\" % (head.name, (head.execT),(head.absD)),\n",
        "\t\thead = head.next\n",
        "\tprint\n",
        "\thead = jobList.head\n",
        "\thead.execT -= 1\n",
        "\tif(0 == head.execT):\n",
        "\t\tjobList.removeHead()\n",
        "\n"
      ],
      "execution_count": null,
      "outputs": []
    },
    {
      "cell_type": "code",
      "metadata": {
        "id": "okiGDdR_J7Pc",
        "outputId": "3eb98bf5-7259-4480-c7a0-a1e61110e201",
        "colab": {
          "base_uri": "https://localhost:8080/"
        }
      },
      "source": [
        "3/10 + 4/16 + 1/4+2/50"
      ],
      "execution_count": null,
      "outputs": [
        {
          "output_type": "execute_result",
          "data": {
            "text/plain": [
              "0.8400000000000001"
            ]
          },
          "metadata": {
            "tags": []
          },
          "execution_count": 4
        }
      ]
    }
  ]
}