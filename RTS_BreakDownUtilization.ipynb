{
  "nbformat": 4,
  "nbformat_minor": 0,
  "metadata": {
    "colab": {
      "name": "RTS_BreakDownUtilization.ipynb",
      "provenance": [],
      "collapsed_sections": [],
      "mount_file_id": "1aDW68RRpDlWJEmcNZWO521BOJixno1HB",
      "authorship_tag": "ABX9TyPBJRy7NUk4fGL4yG/a55Vk",
      "include_colab_link": true
    },
    "kernelspec": {
      "name": "python3",
      "display_name": "Python 3"
    }
  },
  "cells": [
    {
      "cell_type": "markdown",
      "metadata": {
        "id": "view-in-github",
        "colab_type": "text"
      },
      "source": [
        "<a href=\"https://colab.research.google.com/github/ashfarhangi/Real-Time-Systems/blob/master/RTS_BreakDownUtilization.ipynb\" target=\"_parent\"><img src=\"https://colab.research.google.com/assets/colab-badge.svg\" alt=\"Open In Colab\"/></a>"
      ]
    },
    {
      "cell_type": "markdown",
      "metadata": {
        "id": "8THYjAf_jXhz"
      },
      "source": [
        "# Taskset Generator"
      ]
    },
    {
      "cell_type": "markdown",
      "metadata": {
        "id": "ONlPBZLojbem"
      },
      "source": [
        "Note that the user must set bounds on range of period and execution of generate task.\n",
        "\n",
        "![ABG3863cyW.png](data:image/png;base64,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)"
      ]
    },
    {
      "cell_type": "code",
      "metadata": {
        "id": "jx7dG8Hcye3y",
        "outputId": "6a72a8e5-2452-4132-92dd-38eb2c9dc198",
        "colab": {
          "base_uri": "https://localhost:8080/"
        }
      },
      "source": [
        "%cd /content/drive/My Drive/Colab Notebooks/0.RTS"
      ],
      "execution_count": 31,
      "outputs": [
        {
          "output_type": "stream",
          "text": [
            "/content/drive/My Drive/Colab Notebooks/0.RTS\n"
          ],
          "name": "stdout"
        }
      ]
    },
    {
      "cell_type": "code",
      "metadata": {
        "id": "yAaiORu4jCby",
        "outputId": "d3ef5fc8-7ed6-4c1f-a470-12961077ee1f",
        "colab": {
          "base_uri": "https://localhost:8080/"
        }
      },
      "source": [
        "%%writefile util.py\n",
        "%load_ext autoreload\n",
        "%autoreload\n",
        "\n",
        "import numpy as np\n",
        "import pandas as pd\n",
        "import matplotlib.pyplot as plt\n",
        "import random \n",
        "from scipy.optimize import fsolve\n",
        "import sympy as sp\n",
        "from sympy.solvers import solve\n",
        "from sympy import Symbol\n"
      ],
      "execution_count": 33,
      "outputs": [
        {
          "output_type": "stream",
          "text": [
            "Writing util.py\n"
          ],
          "name": "stdout"
        }
      ]
    },
    {
      "cell_type": "code",
      "metadata": {
        "id": "0d6muxsfPzE0",
        "outputId": "47f1eb39-0f37-4eb7-c4fa-2772a9f9bc7a",
        "colab": {
          "base_uri": "https://localhost:8080/"
        }
      },
      "source": [
        "%%writefile taskgen.py\n",
        "\n",
        "class TaskGen:\n",
        "  def __init__(self):\n",
        "    self.pmax = 100\n",
        "    self.pmin =10\n",
        "  def random_task(self,minP,minE):\n",
        "    q = (np.random.randint(self.pmin,self.pmax),np.random.randint(1,minE))\n",
        "    w = (np.random.randint(self.pmin,self.pmax),np.random.randint(1,minE))\n",
        "    e= (np.random.randint(self.pmin,self.pmax),np.random.randint(1,minE))\n",
        "    r=  (np.random.randint(self.pmin,self.pmax),np.random.randint(1,minE))\n",
        "    t = (np.random.randint(self.pmin,self.pmax),np.random.randint(1,minE))\n",
        "    return q,w,e,r,t"
      ],
      "execution_count": 34,
      "outputs": [
        {
          "output_type": "stream",
          "text": [
            "Writing taskgen.py\n"
          ],
          "name": "stdout"
        }
      ]
    },
    {
      "cell_type": "code",
      "metadata": {
        "id": "US8L8G7bnTRt",
        "outputId": "0f9da840-f91f-46fd-a7fe-3ff8ffb836de",
        "colab": {
          "base_uri": "https://localhost:8080/"
        }
      },
      "source": [
        "a = TaskGen()\n",
        "a.random_task(10,5)"
      ],
      "execution_count": 24,
      "outputs": [
        {
          "output_type": "execute_result",
          "data": {
            "text/plain": [
              "((53, 1), (18, 3), (39, 2), (60, 4), (84, 1))"
            ]
          },
          "metadata": {
            "tags": []
          },
          "execution_count": 24
        }
      ]
    },
    {
      "cell_type": "code",
      "metadata": {
        "id": "GxPEJgDriU_R"
      },
      "source": [
        "def RMUtil(n):\n",
        "  b = n * (np.power(2,1/n)-1)\n",
        "  return b"
      ],
      "execution_count": null,
      "outputs": []
    },
    {
      "cell_type": "code",
      "metadata": {
        "id": "ia3FTDV7iV8F"
      },
      "source": [
        "def hyperPeriod(a,b):\n",
        "  z = np.lcm(a,b)\n",
        "  return z"
      ],
      "execution_count": null,
      "outputs": []
    },
    {
      "cell_type": "code",
      "metadata": {
        "id": "VECa6sNXiO01",
        "outputId": "7bd2218c-ece7-4d24-c374-da282cf86a83",
        "colab": {
          "base_uri": "https://localhost:8080/"
        }
      },
      "source": [
        "np.lcm(15,20)"
      ],
      "execution_count": null,
      "outputs": [
        {
          "output_type": "execute_result",
          "data": {
            "text/plain": [
              "60"
            ]
          },
          "metadata": {
            "tags": []
          },
          "execution_count": 130
        }
      ]
    },
    {
      "cell_type": "code",
      "metadata": {
        "id": "Cp5BwcGERGCu"
      },
      "source": [
        "q,w,e,r,t = randomTask(10,5)\n",
        "# print('util',str()x[]+y[]+))"
      ],
      "execution_count": null,
      "outputs": []
    },
    {
      "cell_type": "code",
      "metadata": {
        "id": "6o3jeBkCUgsu",
        "outputId": "ed39c43a-2441-4234-c84a-1a3e29aac0e1",
        "colab": {
          "base_uri": "https://localhost:8080/"
        }
      },
      "source": [
        "cTotal = q[1]+w[1]+e[1]+r[1]+t[1]\n",
        "uti = q[1]/q[0] + w[1]/w[0] +e[1]/e[0] + r[1]/r[0] + t[1]/t[0] \n",
        "if uti <=1:\n",
        "  print('EDF Scheduable',uti)"
      ],
      "execution_count": null,
      "outputs": [
        {
          "output_type": "stream",
          "text": [
            "EDF Scheduable 0.41815401374224903\n"
          ],
          "name": "stdout"
        }
      ]
    },
    {
      "cell_type": "code",
      "metadata": {
        "id": "y_kiD9NeieX3",
        "outputId": "f93148ef-e253-4b41-e86b-32fdb806f86f",
        "colab": {
          "base_uri": "https://localhost:8080/"
        }
      },
      "source": [
        "uti"
      ],
      "execution_count": null,
      "outputs": [
        {
          "output_type": "execute_result",
          "data": {
            "text/plain": [
              "0.41815401374224903"
            ]
          },
          "metadata": {
            "tags": []
          },
          "execution_count": 134
        }
      ]
    },
    {
      "cell_type": "code",
      "metadata": {
        "id": "8_hUJ7RiipXF",
        "outputId": "0b68f825-d695-46ec-f52d-4685c52df332",
        "colab": {
          "base_uri": "https://localhost:8080/"
        }
      },
      "source": [
        "x = Symbol('x')\n",
        "solve(x**2 - 1, x)\n",
        "solve(3 + (x/8)*3-x, x)"
      ],
      "execution_count": null,
      "outputs": [
        {
          "output_type": "execute_result",
          "data": {
            "text/plain": [
              "[24/5]"
            ]
          },
          "metadata": {
            "tags": []
          },
          "execution_count": 138
        }
      ]
    },
    {
      "cell_type": "code",
      "metadata": {
        "id": "FfRA1yBJimG0",
        "outputId": "30bbbf99-4182-416b-a0f6-bc999645e2fd",
        "colab": {
          "base_uri": "https://localhost:8080/"
        }
      },
      "source": [
        "solve(1 + (x/4)*2+((x/12)*3)-x, x)"
      ],
      "execution_count": null,
      "outputs": [
        {
          "output_type": "execute_result",
          "data": {
            "text/plain": [
              "[4]"
            ]
          },
          "metadata": {
            "tags": []
          },
          "execution_count": 140
        }
      ]
    },
    {
      "cell_type": "code",
      "metadata": {
        "id": "S1FkczFjiY3j",
        "outputId": "e6443da3-e1d7-455c-97f9-fd38b59f7fe6",
        "colab": {
          "base_uri": "https://localhost:8080/"
        }
      },
      "source": [
        "print('w scale',solve((x*uti)-1, x))"
      ],
      "execution_count": null,
      "outputs": [
        {
          "output_type": "stream",
          "text": [
            "w scale [2.39146335353940]\n"
          ],
          "name": "stdout"
        }
      ]
    },
    {
      "cell_type": "code",
      "metadata": {
        "id": "ZNLLBSluVdfb",
        "outputId": "f8e31ba4-db20-4ef4-8a9d-c8ee7cb206be",
        "colab": {
          "base_uri": "https://localhost:8080/"
        }
      },
      "source": [
        "ContextSwitch = 0.000006"
      ],
      "execution_count": null,
      "outputs": [
        {
          "output_type": "execute_result",
          "data": {
            "text/plain": [
              "0.41815401374224903"
            ]
          },
          "metadata": {
            "tags": []
          },
          "execution_count": 145
        }
      ]
    },
    {
      "cell_type": "code",
      "metadata": {
        "id": "9_HKg2HfjgEl",
        "outputId": "7f18319c-6ad0-41d2-df10-390d881998a9",
        "colab": {
          "base_uri": "https://localhost:8080/",
          "height": 545
        }
      },
      "source": [
        "import matplotlib.pyplot as plt\n",
        "plt.plot([q[1],w[1],e[1],r[1],t[1]],linewidth=4)\n",
        "plt.title('Tasks Execution')\n",
        "plt.show()\n",
        "plt.plot([q[0],w[0],e[0],r[0],t[0]],linewidth=4)\n",
        "plt.title('Tasks Period')\n",
        "plt.show()"
      ],
      "execution_count": null,
      "outputs": [
        {
          "output_type": "display_data",
          "data": {
            "image/png": "[encoded data removed]",
            "text/plain": [
              "<Figure size 432x288 with 1 Axes>"
            ]
          },
          "metadata": {
            "tags": [],
            "needs_background": "light"
          }
        },
        {
          "output_type": "display_data",
          "data": {
            "image/png": "[encoded data removed]",
            "text/plain": [
              "<Figure size 432x288 with 1 Axes>"
            ]
          },
          "metadata": {
            "tags": [],
            "needs_background": "light"
          }
        }
      ]
    },
    {
      "cell_type": "code",
      "metadata": {
        "id": "pUzFxcx_rPwi"
      },
      "source": [
        "csTime = 0.000006"
      ],
      "execution_count": null,
      "outputs": []
    },
    {
      "cell_type": "code",
      "metadata": {
        "id": "6u3kLjdxpzXP"
      },
      "source": [
        "import matplotlib.pyplot as plt\n",
        "plt.plot([q[1],w[1],e[1],r[1],t[1]],linewidth=4)\n",
        "plt.title('Tasks Execution')\n",
        "plt.show()\n",
        "plt.plot([q[0],w[0],e[0],r[0],t[0]],linewidth=4)\n",
        "plt.title('Tasks Period')\n",
        "plt.show()"
      ],
      "execution_count": null,
      "outputs": []
    },
    {
      "cell_type": "code",
      "metadata": {
        "id": "ybZhtC98jJRY",
        "outputId": "33932ee4-aee6-4b55-9361-c39045f67fd3",
        "colab": {
          "base_uri": "https://localhost:8080/"
        }
      },
      "source": [
        "import numpy as np\n",
        "FFalse= []\n",
        "\n",
        "for f in Flist:\n",
        "  for p in periodList:\n",
        "    gcd= np.gcd(f,p)\n",
        "    if(2*f - gcd >p):\n",
        "      # print('Constrait broken for ',f)\n",
        "      FFalse.append(f)\n",
        "    # if(2*f - gcd <= p):"
      ],
      "execution_count": null,
      "outputs": [
        {
          "output_type": "execute_result",
          "data": {
            "text/plain": [
              "[]"
            ]
          },
          "metadata": {
            "tags": []
          },
          "execution_count": 7
        }
      ]
    },
    {
      "cell_type": "code",
      "metadata": {
        "id": "ZaZK-U8ZJpsd"
      },
      "source": [
        "class EDF():\n",
        "    \"\"\"Earliest Deadline First\"\"\"\n",
        "    def on_activate(self, job):\n",
        "        job.cpu.resched()\n",
        "\n",
        "    def on_terminated(self, job):\n",
        "        job.cpu.resched()\n",
        "\n",
        "    def schedule(self, cpu):\n",
        "        # List of ready jobs not currently running:\n",
        "        ready_jobs = [t.job for t in self.task_list\n",
        "                      if t.is_active() and not t.job.is_running()]\n",
        "\n",
        "        if ready_jobs:\n",
        "            # Select a free processor or, if none,\n",
        "            # the one with the greatest deadline (self in case of equality):\n",
        "            key = lambda x: (\n",
        "                1 if not x.running else 0,\n",
        "                x.running.absolute_deadline if x.running else 0,\n",
        "                1 if x is cpu else 0\n",
        "            )\n",
        "            cpu_min = max(self.processors, key=key)\n",
        "\n",
        "            # Select the job with the least priority:\n",
        "            job = min(ready_jobs, key=lambda x: x.absolute_deadline)\n",
        "\n",
        "            if (cpu_min.running is None or\n",
        "                    cpu_min.running.absolute_deadline > job.absolute_deadline):\n",
        "                print(self.sim.now(), job.name, cpu_min.name)\n",
        "                return (job, cpu_min)\n"
      ],
      "execution_count": null,
      "outputs": []
    },
    {
      "cell_type": "code",
      "metadata": {
        "id": "aeWQXbGiqTAr"
      },
      "source": [
        "from fractions import gcd\n",
        "import math\n",
        "class Node:\n",
        "  def __init__(self):\n",
        "    self.name = None\n",
        "    self.absD = None\n",
        "    self.execT = None\n",
        "    self.next = None\n",
        "\n",
        "class LinkedList:\n",
        "  def __init__(self):\n",
        "    self.head = None\n",
        "\n",
        "  def addNode(self, absD, execT, name):\n",
        "    curr = self.head\n",
        "    if curr is None:\n",
        "      n = Node()\n",
        "      n.absD = absD\n",
        "      n.name = name\n",
        "      n.execT = execT\n",
        "      self.head = n\n",
        "      return\n",
        "\n",
        "    if curr.absD > absD:\n",
        "      n = Node()\n",
        "      n.absD = absD\n",
        "      n.name = name\n",
        "      n.execT = execT\n",
        "      n.next = curr\n",
        "      self.head = n\n",
        "      return\n",
        "\n",
        "    if curr.absD == absD:\n",
        "      n = Node()\n",
        "      n.absD = absD\n",
        "      n.name = name\n",
        "      n.execT = execT\n",
        "      if int(curr.name[1]) > int(name[1]):\n",
        "              n.next = curr\n",
        "              self.head = n\n",
        "              return\n",
        "      while curr.next is not None:\n",
        "        if int(curr.name[1]) > int(name[1]):\n",
        "          break\n",
        "        curr = curr.next\n",
        "      n.next = curr.next\n",
        "      curr.next = n\n",
        "      return\n",
        "\n",
        "    while curr.next is not None:\n",
        "      if curr.next.absD > absD:\n",
        "        break\n",
        "      if curr.next.absD == absD:\n",
        "      curr = curr.next\n",
        "    n = Node()\n",
        "    n.absD = absD\n",
        "    n.name = name\n",
        "    n.execT = execT\n",
        "    n.next = curr.next\n",
        "    curr.next = n\n",
        "    return\n",
        "\n",
        "  def removeHead(self):\n",
        "    curr = self.head\n",
        "    self.head = curr.next\n",
        "\n",
        "period = [3, 5, 8]\n",
        "relD = [3, 5, 8]\n",
        "execT = [1, 2, 3]\n",
        "interval = 32\n",
        "\n",
        "print \"-------------------------------------\"\n",
        "for i in range(1, len(period)+1):\n",
        "        vNum = interval / period[i-1]\n",
        "\tif(0 != (interval % period[i-1])):\n",
        "\t\tvNum+=1\n",
        "        for j in range(0, vNum):\n",
        "                vName = \"T\" + str(i) + \"J\" + str(j+1)\n",
        "\t\tprint \" %s\" % vName,\n",
        "\tprint\n",
        "\n",
        "jobList = LinkedList() \n",
        "for i in range(0, interval+1):\n",
        "\tfor j in range(0, len(period)):\n",
        "\t\tif(0 == (i % period[j])):\n",
        "\t\t\tvName = (\"T\"+ str(j+1) + \"J\" + str((i / period[j]) + 1))\n",
        "\t\t\t'''\n",
        "\t\t\tprint i,j+1, i+relD[j], period[j],\n",
        "\t\t\tprint \"%s\" % vName \n",
        "\t\t\t'''\n",
        "\t\t\tjobList.addNode(i+relD[j], execT[j], vName)\n",
        "\n",
        "\thead = jobList.head\n",
        "\tprint \"* Time %2d: %s: [%d, %d] \" % (i, head.name, head.execT, head.absD), \n",
        "\tif(i >= head.absD):\n",
        "\t\tprint \"-> Deadline Missed \",\n",
        "\tprint \"-> Queue:\",\n",
        "\twhile head is not None:\n",
        "\t\tprint \"%s[%d,%d]\" % (head.name, (head.execT),(head.absD)),\n",
        "\t\thead = head.next\n",
        "\tprint\n",
        "\thead = jobList.head\n",
        "\thead.execT -= 1\n",
        "\tif(0 == head.execT):\n",
        "\t\tjobList.removeHead()\n",
        "\n"
      ],
      "execution_count": null,
      "outputs": []
    },
    {
      "cell_type": "code",
      "metadata": {
        "id": "okiGDdR_J7Pc",
        "outputId": "3eb98bf5-7259-4480-c7a0-a1e61110e201",
        "colab": {
          "base_uri": "https://localhost:8080/"
        }
      },
      "source": [
        "3/10 + 4/16 + 1/4+2/50"
      ],
      "execution_count": null,
      "outputs": [
        {
          "output_type": "execute_result",
          "data": {
            "text/plain": [
              "0.8400000000000001"
            ]
          },
          "metadata": {
            "tags": []
          },
          "execution_count": 4
        }
      ]
    }
  ]
}